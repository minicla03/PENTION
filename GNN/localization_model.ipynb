{
 "cells": [
  {
   "cell_type": "code",
   "execution_count": null,
   "id": "845f965a",
   "metadata": {},
   "outputs": [],
   "source": [
    "import pandas as pd\n",
    "import numpy as np\n",
    "import seaborn as sns\n",
    "import matplotlib.pyplot as plt\n",
    "\n",
    "dataset = pd.read_csv(\"dataset/nps_simulated_dataset_gaussiano_0408_v4_reduced.csv\")\n",
    "print(\"Number of rows: \", dataset.shape[0])\n",
    "print(\"Number of columns: \", dataset.shape[1])\n",
    "dataset.head(20)"
   ]
  },
  {
   "cell_type": "code",
   "execution_count": null,
   "id": "8b3ddb85",
   "metadata": {},
   "outputs": [],
   "source": [
    "dataset.info(verbose=True)"
   ]
  },
  {
   "cell_type": "code",
   "execution_count": null,
   "id": "78cd6371",
   "metadata": {},
   "outputs": [],
   "source": [
    "dataset.isnull().sum()"
   ]
  },
  {
   "cell_type": "code",
   "execution_count": null,
   "id": "d049e725",
   "metadata": {},
   "outputs": [],
   "source": [
    "dataset.describe()"
   ]
  },
  {
   "cell_type": "code",
   "execution_count": null,
   "id": "edce22ed",
   "metadata": {},
   "outputs": [],
   "source": [
    "print(dataset[\"wind_dir\"][1])\n",
    "print(type(dataset[\"wind_dir\"][1]))\n"
   ]
  },
  {
   "cell_type": "code",
   "execution_count": null,
   "id": "14b02d51",
   "metadata": {},
   "outputs": [],
   "source": [
    "datset_copy=dataset.copy()"
   ]
  },
  {
   "cell_type": "code",
   "execution_count": null,
   "id": "47c41e71",
   "metadata": {},
   "outputs": [],
   "source": [
    "def convert_string_to_array(s):\n",
    "\tif isinstance(s, str):\n",
    "\t\ts = s.replace('[', '').replace(']', '')\n",
    "\t\treturn np.fromstring(s, sep=',')\n",
    "\treturn s\n",
    "\n",
    "datset_copy[\"wind_dir\"] = datset_copy[\"wind_dir\"].apply(convert_string_to_array)\n",
    "#datset_copy[\"concentration\"] = datset_copy[\"concentration\"].apply(convert_string_to_array)"
   ]
  },
  {
   "cell_type": "code",
   "execution_count": null,
   "id": "126a58a6",
   "metadata": {},
   "outputs": [],
   "source": [
    "datset_copy[\"wind_dir\"]"
   ]
  },
  {
   "cell_type": "code",
   "execution_count": null,
   "id": "dec37832",
   "metadata": {},
   "outputs": [],
   "source": [
    "datset_copy.info(verbose=True)"
   ]
  },
  {
   "cell_type": "code",
   "execution_count": null,
   "id": "f8a67f32",
   "metadata": {},
   "outputs": [],
   "source": [
    "datset_copy_subset = datset_copy[[\"sensor_x\", \"sensor_y\", \"sensor_noise\", \"sensor_height\", \"days\",\n",
    "                                  \"wind_speed\", \"source_x\", \"source_y\", \"source_h\", \"emission_rate\", \"RH\"]]\n",
    "datset_copy_subset.hist(figsize=(20, 20), bins=50)\n",
    "plt.suptitle(\"Istogrammi per la distribuzione delle feature\", fontsize=27)\n",
    "plt.show()"
   ]
  },
  {
   "cell_type": "code",
   "execution_count": null,
   "id": "0db242ca",
   "metadata": {},
   "outputs": [],
   "source": [
    "categorical_cols =[\"stability_profile\", \"stability_value\", \"aerosol_type\", \"wind_type\", \"humidify\"]\n",
    "\n",
    "for col in categorical_cols:\n",
    "    plt.figure(figsize=(6, 4))\n",
    "    sns.countplot(data=datset_copy, x=col)\n",
    "    plt.title(f\"Distribuzione di {col}\")\n",
    "    plt.xlabel(\"Categoria\")\n",
    "    plt.ylabel(\"Frequenza\")\n",
    "    plt.xticks(rotation=45)\n",
    "    plt.tight_layout()\n",
    "    plt.show()"
   ]
  },
  {
   "cell_type": "code",
   "execution_count": null,
   "id": "e16ab3f9",
   "metadata": {},
   "outputs": [],
   "source": [
    "datset_copy = datset_copy.drop(columns=[\"simulation_id\", \"sensor_id\", \"stability_profile\",\"sensor_height\"])\n",
    "datset_copy.drop(columns=[\"days\"], inplace=True)\n",
    "datset_copy.info(verbose=True)"
   ]
  },
  {
   "cell_type": "code",
   "execution_count": null,
   "id": "2a34a4d5",
   "metadata": {},
   "outputs": [],
   "source": [
    "import numpy as np\n",
    "import matplotlib.pyplot as plt\n",
    "from windrose import WindroseAxes\n",
    "\n",
    "def plot_windrose_samples(dataset, indices):\n",
    "    if isinstance(indices, int):\n",
    "        indices = [indices]\n",
    "\n",
    "    for i in indices:\n",
    "        direzioni = np.array(dataset[\"wind_dir\"].iloc[i])\n",
    "        frequenze = np.ones_like(direzioni)  # peso uniforme per ogni direzione\n",
    "\n",
    "        fig = plt.figure(figsize=(6,6))\n",
    "        ax = WindroseAxes.from_ax(fig=fig)\n",
    "        ax.bar(direzioni, frequenze, normed=True, opening=0.8, edgecolor='white')\n",
    "        ax.set_legend(title=\"Frequenza (%)\")\n",
    "        ax.set_title(f\"Rosa dei venti - direzione solo - campione {i}\")\n",
    "        plt.show()\n",
    "\n",
    "plot_windrose_samples(datset_copy, [0, 10, 100, 250, 1000]) \n"
   ]
  },
  {
   "cell_type": "code",
   "execution_count": null,
   "id": "bd559e03",
   "metadata": {},
   "outputs": [],
   "source": [
    "# Convert string arrays to numpy arrays and calculate mean direction for each entry\n",
    "def calculate_mean_direction(wind_dir_array):\n",
    "\tif isinstance(wind_dir_array, str):\n",
    "\t\t# Convert string representation to numpy array\n",
    "\t\twind_dir_array = np.fromstring(wind_dir_array.replace('[', '').replace(']', ''), sep=',')\n",
    "\t\n",
    "\t# Convert to radians\n",
    "\twind_dir_rad = np.radians(wind_dir_array)\n",
    "\t\n",
    "\t# Calculate directional vectors\n",
    "\tcos_vals = np.cos(wind_dir_rad)\n",
    "\tsin_vals = np.sin(wind_dir_rad)\n",
    "\t\n",
    "\t# Calculate mean\n",
    "\tmean_cos = np.mean(cos_vals)\n",
    "\tmean_sin = np.mean(sin_vals)\n",
    "\t\n",
    "\treturn mean_cos, mean_sin\n",
    "\n",
    "# Apply to all wind directions\n",
    "mean_directions = np.array([calculate_mean_direction(wd) for wd in datset_copy[\"wind_dir\"]])\n",
    "\n",
    "# Save mean wind direction components to dataset\n",
    "datset_copy['wind_dir_cos'] = mean_directions[:, 0]\n",
    "datset_copy['wind_dir_sin'] = mean_directions[:, 1]"
   ]
  },
  {
   "cell_type": "code",
   "execution_count": null,
   "id": "d0a4cb55",
   "metadata": {},
   "outputs": [],
   "source": [
    "datset_copy.drop(columns=[\"wind_dir\"], inplace=True)"
   ]
  },
  {
   "cell_type": "code",
   "execution_count": null,
   "id": "67a02f06",
   "metadata": {},
   "outputs": [],
   "source": [
    "datset_copy_corr = datset_copy.copy()\n",
    "\n",
    "\n",
    "wind_type_map = {\n",
    "    \"CONSTANT\": 1,\n",
    "    \"FLUCTUATING\": 2,\n",
    "    \"PREVAILING\": 3\n",
    "}\n",
    "\n",
    "pg_stability_map = {\n",
    "    \"PasquillGiffordStability.VERY_UNSTABLE\": 1,\n",
    "    \"PasquillGiffordStability.MODERATELY_UNSTABLE\": 2,\n",
    "    \"PasquillGiffordStability.SLIGHTLY_UNSTABLE\": 3,\n",
    "    \"PasquillGiffordStability.NEUTRAL\": 4,\n",
    "    \"PasquillGiffordStability.MODERATELY_STABLE\": 5,\n",
    "    \"PasquillGiffordStability.VERY_STABLE\": 6\n",
    "}\n",
    "\n",
    "nps_type_map = {\n",
    "    \"CANNABINOID_ANALOGUES\": 0,\n",
    "    \"CATHINONE_ANALOGUES\": 1,\n",
    "    \"PHENETHYLAMINE_ANALOGUES\": 2,\n",
    "    \"PIPERAZINE_ANALOGUES\": 3,\n",
    "    \"TRYPTAMINE_ANALOGUES\": 4,\n",
    "    \"FENTANYL_ANALOGUES\": 5,\n",
    "    \"OTHER_COMPOUNDS\": 6\n",
    "}\n",
    "\n",
    "\n",
    "datset_copy_corr['wind_type'] = datset_copy_corr['wind_type'].astype(str)\n",
    "datset_copy_corr['stability_value'] = datset_copy_corr['stability_value'].astype(str)\n",
    "datset_copy_corr['aerosol_type'] = datset_copy_corr['aerosol_type'].astype(str)\n",
    "\n",
    "datset_copy_corr['wind_type'] = datset_copy_corr['wind_type'].map(wind_type_map)\n",
    "datset_copy_corr['stability_value'] = datset_copy_corr['stability_value'].map(pg_stability_map)\n",
    "datset_copy_corr['aerosol_type'] = datset_copy_corr['aerosol_type'].map(nps_type_map)\n",
    "\n",
    "datset_copy_corr[[\"wind_type\", \"stability_value\", \"aerosol_type\"]].head()"
   ]
  },
  {
   "cell_type": "code",
   "execution_count": null,
   "id": "7dabe58d",
   "metadata": {},
   "outputs": [],
   "source": [
    "datset_copy_corr.info(verbose=True)"
   ]
  },
  {
   "cell_type": "code",
   "execution_count": null,
   "id": "4eccf5e4",
   "metadata": {},
   "outputs": [],
   "source": [
    "datset_copy_corr.drop(columns=[\"contratio_series\", \"real_concentration\"], inplace=True)"
   ]
  },
  {
   "cell_type": "code",
   "execution_count": null,
   "id": "0325319d",
   "metadata": {},
   "outputs": [],
   "source": [
    "matrix_corr=datset_copy_corr.corr()\n",
    "plt.figure(figsize=(15, 8))\n",
    "sns.heatmap(matrix_corr, annot=True, cmap='coolwarm',fmt=\".2f\", linewidths=0.5)\n",
    "plt.title(\"Matrice di Correlazione\")\n",
    "plt.tight_layout()\n",
    "plt.show()"
   ]
  },
  {
   "cell_type": "code",
   "execution_count": null,
   "id": "b1e75174",
   "metadata": {},
   "outputs": [],
   "source": [
    "datset_copy.drop(columns=[\"humidify\"], inplace=True)\n",
    "datset_copy.info(verbose=True)"
   ]
  },
  {
   "cell_type": "markdown",
   "id": "b822e0d0",
   "metadata": {},
   "source": [
    "# MODEL"
   ]
  },
  {
   "cell_type": "code",
   "execution_count": null,
   "id": "58228fab",
   "metadata": {},
   "outputs": [],
   "source": [
    "# save dataset_copy to a new CSV file\n",
    "datset_copy.to_csv(\"dataset/nps_simulated_dataset_gaussiano_0408_v4_processed_reduced.csv\", index=False)"
   ]
  },
  {
   "cell_type": "code",
   "execution_count": null,
   "id": "79cb52bb",
   "metadata": {},
   "outputs": [],
   "source": [
    "import pandas as pd\n",
    "import numpy as np\n",
    "datset_copy=pd.read_csv(\"dataset/nps_simulated_dataset_gaussiano_0408_v4_processed_reduced.csv\")"
   ]
  }
 ],
 "metadata": {
  "kernelspec": {
   "display_name": "Python 3",
   "language": "python",
   "name": "python3"
  },
  "language_info": {
   "codemirror_mode": {
    "name": "ipython",
    "version": 3
   },
   "file_extension": ".py",
   "mimetype": "text/x-python",
   "name": "python",
   "nbconvert_exporter": "python",
   "pygments_lexer": "ipython3",
   "version": "3.10.11"
  }
 },
 "nbformat": 4,
 "nbformat_minor": 5
}
